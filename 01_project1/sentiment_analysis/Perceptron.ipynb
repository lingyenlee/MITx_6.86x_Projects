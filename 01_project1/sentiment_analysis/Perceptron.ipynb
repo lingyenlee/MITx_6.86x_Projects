{
 "cells": [
  {
   "cell_type": "markdown",
   "id": "touched-novelty",
   "metadata": {},
   "source": [
    "## The Perceptron Algorithm\n",
    "Training Error for any classifier is defined as a fraction of training samples that are misclassified. so in terms of whether or not the classifier applied to their training example, whether it disagrees with a given label for that example.\n",
    "\n",
    "Mathematical Definition:\n",
    "Perceptron Algorithm is stated as the following:\n",
    "\n",
    "without offset:\\\n",
    "Perceptron ({<i>x</i><sup>(i)</sup>, <i>y</i><sup>(i)</sup>),<i>i</i> = 1,...., <i>n</i>}, <i>T</i>):\n",
    "\n",
    "initialize $\\theta$ = 0 (vector);\n",
    "    \n",
    "    for t = 1,....,T do\n",
    "        for i \n",
    "\n",
    "\n"
   ]
  },
  {
   "cell_type": "code",
   "execution_count": null,
   "id": "freelance-journal",
   "metadata": {},
   "outputs": [],
   "source": []
  }
 ],
 "metadata": {
  "kernelspec": {
   "display_name": "Python 3",
   "language": "python",
   "name": "python3"
  },
  "language_info": {
   "codemirror_mode": {
    "name": "ipython",
    "version": 3
   },
   "file_extension": ".py",
   "mimetype": "text/x-python",
   "name": "python",
   "nbconvert_exporter": "python",
   "pygments_lexer": "ipython3",
   "version": "3.6.12"
  }
 },
 "nbformat": 4,
 "nbformat_minor": 5
}
